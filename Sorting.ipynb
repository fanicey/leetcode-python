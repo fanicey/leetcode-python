{
 "cells": [
  {
   "cell_type": "markdown",
   "metadata": {},
   "source": [
    "# Comparison Sort Algorithms\n",
    "## quick sort\n",
    "* Basic Idea: devide and conquer.\n",
    "    * devide: partition the sequence into two subarrays, s.t. `nums[l:p]` all smaller than A while `nums[p+1:r]` all larger than A\n",
    "    * conquer: sort the subarrays recursively\n",
    "    * combine: \n",
    "* Time Complexity:\n",
    "    * worst case: when the partition is extremely unbalance. i.e., the array is sorted (either order) $O(n^2)$. We can randomize the algorithm by selecting the target element randomly\n",
    "    * avg case: $O(n \\log n)$\n",
    "    * best case: $O(n \\log n)$\n",
    "* Space complexity: $O(1)$. QuickSort can be implemented as an in-place sorting algorithm"
   ]
  },
  {
   "cell_type": "code",
   "execution_count": 9,
   "metadata": {
    "ExecuteTime": {
     "end_time": "2021-08-29T19:24:19.180537Z",
     "start_time": "2021-08-29T19:24:19.167347Z"
    }
   },
   "outputs": [],
   "source": [
    "class QuickSort:\n",
    "\n",
    "    def _partition(self, nums, l, r):\n",
    "        A = nums[r]\n",
    "        p = l-1\n",
    "        for i in range(l,r):\n",
    "            if nums[i] <= A:\n",
    "                p += 1\n",
    "                nums[p], nums[i] = nums[i], nums[p]\n",
    "        nums[p+1], nums[r] = nums[r], nums[p+1]\n",
    "        return p+1\n",
    "        \n",
    "    def _quickSort(self, nums, l, r):\n",
    "        if l<r:\n",
    "            p = self._partition(nums, l, r) \n",
    "            self._quickSort(nums, l, p-1)\n",
    "            self._quickSort(nums, p+1, r)\n",
    "            \n",
    "    def sort(self, nums):\n",
    "        self._quickSort(nums, 0, len(nums)-1)          "
   ]
  },
  {
   "cell_type": "markdown",
   "metadata": {},
   "source": [
    "## merge sort\n",
    "Similar to quick sort, merge sort is also a devide-conquer approach.\n",
    "* devide: devide into two equal-length subarrays\n",
    "* conquer: sort subarrays recursively using mergeSort\n",
    "* combine: merge the two sorted subarrays into the sorted answer\n",
    "\n",
    "Time Complexity: $O(n\\log n)$ for all cases\n",
    "\n",
    "Space Complexity: in the \"combine\" step, the programe need to copy all the elements, so complexity is $O(n\\log n)$ "
   ]
  },
  {
   "cell_type": "code",
   "execution_count": 15,
   "metadata": {
    "ExecuteTime": {
     "end_time": "2021-08-29T22:27:38.969818Z",
     "start_time": "2021-08-29T22:27:38.954172Z"
    }
   },
   "outputs": [],
   "source": [
    "class MergeSort:\n",
    "    def _combineTwoSortedArray(self, nums1, nums2):\n",
    "        res = []\n",
    "        i, j = 0, 0\n",
    "        while i<len(nums1) and j<len(nums2):\n",
    "            if nums1[i]<=nums2[j]:\n",
    "                res.append(nums1[i])\n",
    "                i += 1\n",
    "            else:\n",
    "                res.append(nums2[j])\n",
    "                j += 1\n",
    "        res.extend(nums1[i:])\n",
    "        res.extend(nums2[j:])\n",
    "        return res\n",
    "    \n",
    "    def sort(self, nums):\n",
    "        if len(nums) == 1:\n",
    "            return nums\n",
    "        mid = len(nums)//2\n",
    "        nums1 = self.sort(nums[:mid])\n",
    "        nums2 = self.sort(nums[mid:])\n",
    "        return self._combineTwoSortedArray(nums1, nums2)"
   ]
  },
  {
   "cell_type": "markdown",
   "metadata": {},
   "source": [
    "## heap sort"
   ]
  },
  {
   "cell_type": "code",
   "execution_count": 6,
   "metadata": {
    "ExecuteTime": {
     "end_time": "2021-08-29T19:22:18.817094Z",
     "start_time": "2021-08-29T19:22:18.791793Z"
    }
   },
   "outputs": [
    {
     "data": {
      "text/plain": [
       "2"
      ]
     },
     "execution_count": 6,
     "metadata": {},
     "output_type": "execute_result"
    }
   ],
   "source": []
  },
  {
   "cell_type": "markdown",
   "metadata": {},
   "source": [
    "## bubble sort\n",
    "In-place sort. Time complexity $O(n^2)$"
   ]
  },
  {
   "cell_type": "code",
   "execution_count": 32,
   "metadata": {
    "ExecuteTime": {
     "end_time": "2021-08-30T05:49:46.743071Z",
     "start_time": "2021-08-30T05:49:46.736578Z"
    }
   },
   "outputs": [],
   "source": [
    "def bubbleSort(nums):\n",
    "    for i in range(len(nums)):\n",
    "        # after i-th iteration, the (i+1) largest element will be sorted to the end  \n",
    "        for j in range(len(nums)-i-1):\n",
    "            if nums[j]>=nums[j+1]:\n",
    "                nums[j], nums[j+1] = nums[j+1], nums[j]"
   ]
  },
  {
   "cell_type": "markdown",
   "metadata": {},
   "source": [
    "# Linear Time Sorting Algorithms\n",
    "## counting sort \n",
    "Good for the situation when the input elements are intergers in the range of $[0,k]$, and $k=O(n)$. The idea is to count, for each element x, the number of elements less than or equal to x. Then in the next iteration, we directly put x to the count(x)-th position.\n",
    "\n",
    "Time complexity is $O(n)$, and space complexity is $O(n)$"
   ]
  },
  {
   "cell_type": "code",
   "execution_count": 25,
   "metadata": {
    "ExecuteTime": {
     "end_time": "2021-08-30T00:33:44.339270Z",
     "start_time": "2021-08-30T00:33:44.329170Z"
    }
   },
   "outputs": [],
   "source": [
    "def countingSort(nums):\n",
    "    k = max(nums)\n",
    "    count = [0]*(k+1)\n",
    "    result = [0]*len(nums)\n",
    "    for ele in nums:\n",
    "        count[ele] += 1\n",
    "    for i in range(1, k+1):\n",
    "        count[i] = count[i] + count[i-1]\n",
    "    for j in range(len(nums)-1, -1, -1):\n",
    "        # visit nums from right to left\n",
    "        result[count[nums[j]]-1] = nums[j]\n",
    "        count[nums[j]] -= 1\n",
    "    return result"
   ]
  },
  {
   "cell_type": "markdown",
   "metadata": {},
   "source": [
    "## Bucket sort"
   ]
  },
  {
   "cell_type": "markdown",
   "metadata": {},
   "source": [
    "## Radix sort\n",
    "        # sort based on the i-th least significant digit\n",
    "        # if a tie, preserve the relevant position\n",
    "        # we can use counting sort here"
   ]
  },
  {
   "cell_type": "code",
   "execution_count": 29,
   "metadata": {
    "ExecuteTime": {
     "end_time": "2021-08-30T00:58:54.774198Z",
     "start_time": "2021-08-30T00:58:54.759808Z"
    }
   },
   "outputs": [
    {
     "ename": "NameError",
     "evalue": "name 'List' is not defined",
     "output_type": "error",
     "traceback": [
      "\u001b[0;31m---------------------------------------------------------------------------\u001b[0m",
      "\u001b[0;31mNameError\u001b[0m                                 Traceback (most recent call last)",
      "\u001b[0;32m<ipython-input-29-072021a59a66>\u001b[0m in \u001b[0;36m<module>\u001b[0;34m\u001b[0m\n\u001b[0;32m----> 1\u001b[0;31m \u001b[0;32mdef\u001b[0m \u001b[0mradixSort\u001b[0m\u001b[0;34m(\u001b[0m\u001b[0mnums\u001b[0m\u001b[0;34m:\u001b[0m\u001b[0mList\u001b[0m\u001b[0;34m[\u001b[0m\u001b[0mstr\u001b[0m\u001b[0;34m]\u001b[0m\u001b[0;34m)\u001b[0m\u001b[0;34m:\u001b[0m\u001b[0;34m\u001b[0m\u001b[0;34m\u001b[0m\u001b[0m\n\u001b[0m\u001b[1;32m      2\u001b[0m     \u001b[0;32mreturn\u001b[0m \u001b[0;34m[\u001b[0m\u001b[0;34m]\u001b[0m\u001b[0;34m\u001b[0m\u001b[0;34m\u001b[0m\u001b[0m\n",
      "\u001b[0;31mNameError\u001b[0m: name 'List' is not defined"
     ]
    }
   ],
   "source": [
    "def radixSort(nums):\n",
    "    # nums is an array of d-digit string\n",
    "    def stableSort(nums, i):\n",
    "        \n",
    "        \n",
    "        \n",
    "    return []"
   ]
  },
  {
   "cell_type": "code",
   "execution_count": null,
   "metadata": {},
   "outputs": [],
   "source": []
  },
  {
   "cell_type": "markdown",
   "metadata": {},
   "source": [
    "# Test"
   ]
  },
  {
   "cell_type": "code",
   "execution_count": 10,
   "metadata": {
    "ExecuteTime": {
     "end_time": "2021-08-29T19:24:21.847967Z",
     "start_time": "2021-08-29T19:24:21.837597Z"
    }
   },
   "outputs": [
    {
     "data": {
      "text/plain": [
       "[2, 3, 4, 4, 8, 8, 9, 9, 9, 10]"
      ]
     },
     "execution_count": 10,
     "metadata": {},
     "output_type": "execute_result"
    }
   ],
   "source": [
    "from random import randint\n",
    "K=10\n",
    "nums = [randint(0, 10) for i in range(K)]\n",
    "sorter = QuickSort()\n",
    "sorter.sort(nums)"
   ]
  },
  {
   "cell_type": "code",
   "execution_count": 16,
   "metadata": {
    "ExecuteTime": {
     "end_time": "2021-08-29T22:27:42.493571Z",
     "start_time": "2021-08-29T22:27:42.483516Z"
    }
   },
   "outputs": [
    {
     "data": {
      "text/plain": [
       "[0, 0, 4, 6, 7, 8, 9, 10, 10, 10]"
      ]
     },
     "execution_count": 16,
     "metadata": {},
     "output_type": "execute_result"
    }
   ],
   "source": [
    "nums = [randint(0, 10) for i in range(K)]\n",
    "sorter = MergeSort()\n",
    "sorted_nums = sorter.sort(nums)\n",
    "sorted_nums"
   ]
  },
  {
   "cell_type": "code",
   "execution_count": 24,
   "metadata": {
    "ExecuteTime": {
     "end_time": "2021-08-30T00:33:29.945640Z",
     "start_time": "2021-08-30T00:33:29.932003Z"
    }
   },
   "outputs": [
    {
     "name": "stdout",
     "output_type": "stream",
     "text": [
      "[1, 2, 3, 3, 4, 6, 7, 9, 9, 10]\n"
     ]
    },
    {
     "data": {
      "text/plain": [
       "[0, 1, 2, 4, 5, 5, 6, 7, 7, 9]"
      ]
     },
     "execution_count": 24,
     "metadata": {},
     "output_type": "execute_result"
    }
   ],
   "source": [
    "nums = [randint(0, 10) for i in range(K)]\n",
    "sorted_nums = countingSort(nums)\n",
    "sorted_nums"
   ]
  },
  {
   "cell_type": "code",
   "execution_count": 22,
   "metadata": {
    "ExecuteTime": {
     "end_time": "2021-08-30T00:31:28.689323Z",
     "start_time": "2021-08-30T00:31:28.679053Z"
    }
   },
   "outputs": [
    {
     "data": {
      "text/plain": [
       "[4, 1, 5, 2, 9, 6, 4, 5, 7, 3]"
      ]
     },
     "execution_count": 22,
     "metadata": {},
     "output_type": "execute_result"
    }
   ],
   "source": [
    "nums"
   ]
  },
  {
   "cell_type": "code",
   "execution_count": 33,
   "metadata": {
    "ExecuteTime": {
     "end_time": "2021-08-30T05:49:52.073424Z",
     "start_time": "2021-08-30T05:49:52.065208Z"
    }
   },
   "outputs": [
    {
     "data": {
      "text/plain": [
       "[0, 1, 2, 4, 5, 5, 6, 7, 7, 9]"
      ]
     },
     "execution_count": 33,
     "metadata": {},
     "output_type": "execute_result"
    }
   ],
   "source": [
    "bubbleSort(nums)\n",
    "nums"
   ]
  },
  {
   "cell_type": "code",
   "execution_count": null,
   "metadata": {},
   "outputs": [],
   "source": []
  }
 ],
 "metadata": {
  "kernelspec": {
   "display_name": "Python 3",
   "language": "python",
   "name": "python3"
  },
  "language_info": {
   "codemirror_mode": {
    "name": "ipython",
    "version": 3
   },
   "file_extension": ".py",
   "mimetype": "text/x-python",
   "name": "python",
   "nbconvert_exporter": "python",
   "pygments_lexer": "ipython3",
   "version": "3.7.6"
  },
  "toc": {
   "base_numbering": 1,
   "nav_menu": {},
   "number_sections": true,
   "sideBar": true,
   "skip_h1_title": false,
   "title_cell": "Table of Contents",
   "title_sidebar": "Contents",
   "toc_cell": false,
   "toc_position": {},
   "toc_section_display": true,
   "toc_window_display": false
  }
 },
 "nbformat": 4,
 "nbformat_minor": 4
}
